{
 "cells": [
  {
   "cell_type": "code",
   "execution_count": 38,
   "id": "9be8c406",
   "metadata": {},
   "outputs": [
    {
     "name": "stdout",
     "output_type": "stream",
     "text": [
      "Financial Analysis\n",
      "----------------------------\n",
      "Total Months 85\n",
      "Total: 22564198\n",
      "Average Change: -8311.11\n",
      "Greatest Increase in Profits: Aug-16 1862002\n",
      "Greatest Decrease in Profits: Feb-14 -1825558\n",
      "\n"
     ]
    }
   ],
   "source": [
    "import os\n",
    "import csv\n",
    "import statistics\n",
    "\n",
    "file = os.path.join(\".\",\"Resources\",\"budget_data.csv\")\n",
    "\n",
    "file_output = os.path.join(\".\",\"analysis\",\"budget_analysis.txt\")\n",
    "\n",
    "net_change = []\n",
    "\n",
    "\n",
    "with open(file, 'r') as financial_data:\n",
    "    data_reader = csv.reader(financial_data, delimiter=',')\n",
    "    \n",
    "    header = next(data_reader)\n",
    "    \n",
    "    first_row = next(data_reader)\n",
    "    previous_net = int(first_row[1])\n",
    "    total = int(first_row[1])\n",
    "    min_value = 0\n",
    "    max_value = 0\n",
    "    \n",
    "    total_month =0\n",
    "    \n",
    "    for row in data_reader:\n",
    "        difference  = 0\n",
    "        total += int(row[1])\n",
    "        difference = int(row[1])- previous_net\n",
    "        net_change.append(difference)\n",
    "        \n",
    "        if difference > max_value:\n",
    "            max_value = difference\n",
    "            increase_profit = ( f\"{row[0]} {max_value}\")\n",
    "            \n",
    "        if difference < min_value:\n",
    "            min_value = difference\n",
    "            decrease_profit = ( f\"{row[0]} {min_value}\")\n",
    "        previous_net = int(row[1])\n",
    "        \n",
    "        total_month +=1\n",
    "#     for r in net_change:\n",
    "#         if int(r) > max_value:\n",
    "#             max_value = int(r)\n",
    "#         if int(r) < min_value:\n",
    "#             min_value = int(r)\n",
    "#     print(increase_profit)\n",
    "#     print(decrease_profit)\n",
    "    average_change = round(statistics.mean(net_change),2)\n",
    "    \n",
    "output = (f'Financial Analysis\\n'\n",
    "          f'----------------------------\\n'\n",
    "          f'Total Months {total_month}\\n'\n",
    "          f'Total: {total}\\n'\n",
    "          f'Average Change: {average_change}\\n'\n",
    "          f'Greatest Increase in Profits: {increase_profit}\\n'\n",
    "          f'Greatest Decrease in Profits: {decrease_profit}\\n')\n",
    "print(output)\n",
    "    \n",
    "with open(file_output, 'w') as txt_file:\n",
    "    txt_file.write(output)\n",
    "#     print(average_change)\n",
    "#     print(total)\n",
    "#     print(min_value)\n",
    "#     print(max_value)"
   ]
  },
  {
   "cell_type": "code",
   "execution_count": null,
   "id": "b46ffa8f",
   "metadata": {},
   "outputs": [],
   "source": []
  }
 ],
 "metadata": {
  "kernelspec": {
   "display_name": "Python 3 (ipykernel)",
   "language": "python",
   "name": "python3"
  },
  "language_info": {
   "codemirror_mode": {
    "name": "ipython",
    "version": 3
   },
   "file_extension": ".py",
   "mimetype": "text/x-python",
   "name": "python",
   "nbconvert_exporter": "python",
   "pygments_lexer": "ipython3",
   "version": "3.11.4"
  }
 },
 "nbformat": 4,
 "nbformat_minor": 5
}
