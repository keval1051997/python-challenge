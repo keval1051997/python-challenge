{
 "cells": [
  {
   "cell_type": "code",
   "execution_count": 24,
   "id": "abdc90ee",
   "metadata": {},
   "outputs": [
    {
     "name": "stdout",
     "output_type": "stream",
     "text": [
      "Election Results\n",
      "-------------------------\n",
      "Total Votes: 369711\n",
      "-------------------------\n",
      "Charles Casper Stockham: 23.049% (85213)\n",
      "Diana DeGette: 73.812% (272892)\n",
      "Raymon Anthony Doane: 3.139%(11606)\n",
      "-------------------------\n",
      "Winner: Diana DeGette\n",
      "-------------------------\n",
      "\n"
     ]
    }
   ],
   "source": [
    "import os\n",
    "import csv\n",
    "\n",
    "file = os.path.join(\".\",\"Resources\",\"election_data.csv\")\n",
    "\n",
    "file_output = os.path.join(\".\",\"analysis\",\"election_winner.txt\")\n",
    "\n",
    "with open(file) as election_file:\n",
    "    file_reader = csv.reader(election_file, delimiter = \",\")\n",
    "    \n",
    "    header = next(file_reader)\n",
    "    total = 0\n",
    "    total_charles = 0\n",
    "    total_diana = 0\n",
    "    total_raymon = 0\n",
    "    \n",
    "    for row in file_reader:\n",
    "        if row[2] == \"Charles Casper Stockham\":\n",
    "            total_charles+=1\n",
    "        if row[2] == \"Diana DeGette\":\n",
    "            total_diana+=1\n",
    "        if row[2] == \"Raymon Anthony Doane\":\n",
    "            total_raymon+=1\n",
    "        total +=1\n",
    "        \n",
    "    most_votes = max(total_charles,total_diana,total_raymon)\n",
    "    \n",
    "    if most_votes == total_charles:\n",
    "        winner =\"Charles Casper Stockham\"\n",
    "    elif most_votes == total_diana:\n",
    "        winner = \"Diana DeGette\"\n",
    "    else:\n",
    "        winner = \"Raymon Anthony Doane\"\n",
    "output = ( f'Election Results\\n'\n",
    "           f'-------------------------\\n'\n",
    "           f'Total Votes: {total}\\n'\n",
    "           f'-------------------------\\n'\n",
    "           f'Charles Casper Stockham: {round(total_charles/total *100,3)}% ({total_charles})\\n'\n",
    "           f'Diana DeGette: {round(total_diana/total *100,3)}% ({total_diana})\\n'\n",
    "           f'Raymon Anthony Doane: {round(total_raymon/total *100,3)}%({total_raymon})\\n'\n",
    "           f'-------------------------\\n'\n",
    "           f'Winner: {winner}\\n'\n",
    "           f'-------------------------\\n')\n",
    "print(output)\n",
    "\n",
    "with open(file_output, 'w') as election_winner:\n",
    "    election_winner.write(output)"
   ]
  },
  {
   "cell_type": "code",
   "execution_count": null,
   "id": "47728d9e",
   "metadata": {},
   "outputs": [],
   "source": []
  }
 ],
 "metadata": {
  "kernelspec": {
   "display_name": "Python 3 (ipykernel)",
   "language": "python",
   "name": "python3"
  },
  "language_info": {
   "codemirror_mode": {
    "name": "ipython",
    "version": 3
   },
   "file_extension": ".py",
   "mimetype": "text/x-python",
   "name": "python",
   "nbconvert_exporter": "python",
   "pygments_lexer": "ipython3",
   "version": "3.11.4"
  }
 },
 "nbformat": 4,
 "nbformat_minor": 5
}
